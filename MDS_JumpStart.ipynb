{
 "cells": [
  {
   "cell_type": "markdown",
   "id": "4a2c5144-1f4b-4c06-aa85-48e6aa0f1c46",
   "metadata": {
    "editable": true,
    "panel-layout": {
     "height": 77.66381072998047,
     "visible": true,
     "width": 100
    },
    "slideshow": {
     "slide_type": ""
    },
    "tags": []
   },
   "source": [
    "Modifed from *Introduction to Programming in the Biological Sciences Bootcamp* © 2023 Justin Bois (Caltec).\n",
    "Check out the original notebook <a href=\"https://justinbois.github.io/bootcamp/2023/index.html\">here</a>"
   ]
  },
  {
   "cell_type": "markdown",
   "id": "594c4d31-9656-4212-ac63-4e024dcf92da",
   "metadata": {
    "panel-layout": {
     "height": 76.46673583984375,
     "visible": true,
     "width": 100
    }
   },
   "source": [
    "## Homework 0: Quick Introduction to Data Science using Python"
   ]
  },
  {
   "cell_type": "markdown",
   "id": "e421df12-04e5-4dc9-a7ba-a1b90310e290",
   "metadata": {
    "editable": true,
    "panel-layout": {
     "height": 138.7903289794922,
     "visible": true,
     "width": 100
    },
    "slideshow": {
     "slide_type": ""
    },
    "tags": []
   },
   "source": [
    "### Introduction"
   ]
  },
  {
   "cell_type": "markdown",
   "id": "be130ddf-cc2d-4488-91ca-b666cc1d9867",
   "metadata": {
    "editable": true,
    "slideshow": {
     "slide_type": ""
    },
    "tags": []
   },
   "source": [
    " The goal of this homework is to help you get setup with the nevironment you'll be using to code. This is a hands-on class that will require a proficient grasp of programming. We'll be using python exclusively for this class. You could either use <a href=\"https://colab.research.google.com/\">Google Colab</a>, or you could use JupyterLab which you can get through <a href=\"https://www.anaconda.com/products/navigator\">Anaconda Navigator</a>. \n",
    "\n",
    "Once you have downloaded, installed and setup your coding environment, the next step is importing the necessary packages. Google colab and JupyterLabs should have these packages already installed and all you need to do is import them to access their functionalities. Base python provides all you need to write complex programs for any task you need, but, you don't really want to have to write your own code for everything. Luckily, there are many packages that you can install on top of base python that you can use to make your life easier and quicker (see the table in the UVA Computational Resources repo for examples of commonly used packages at UVA).\n",
    "\n",
    "The following lines of code allows you to import NumPy, SciPy, Matplotlib, and Pandas, which you'll be using for this homework. Coding convention stipulates that you import your packages at thr top of your script, and with the aliases used below. \n",
    "\n",
    "To learn more about packages and modules, click <a href=\"https://justinbois.github.io/bootcamp/2023/lessons/l10_packages_and_modules.html\">here</a>. "
   ]
  },
  {
   "cell_type": "code",
   "execution_count": 1,
   "id": "dfa776dc-2c5f-4e8e-bc5b-fed3ea0dd55f",
   "metadata": {
    "editable": true,
    "slideshow": {
     "slide_type": ""
    },
    "tags": []
   },
   "outputs": [],
   "source": [
    "import os\n",
    "import pandas as pd\n",
    "import numpy as np\n",
    "import pandas as pd\n",
    "import matplotlib.pyplot as plt\n",
    "import seaborn as sns"
   ]
  },
  {
   "cell_type": "markdown",
   "id": "a9acc7c0-abbe-4637-ac13-ffefad2f2f65",
   "metadata": {},
   "source": [
    "### Section 1: Conditionals"
   ]
  },
  {
   "cell_type": "markdown",
   "id": "ff7569ec-9e34-4e9c-817a-95cfec454d8c",
   "metadata": {},
   "source": [
    "Write an if-else statement that prints \"A is greater than B\", when the numeric value of A is greater than B, and prints \"A is less then B\", when the numeric value of A is less than B. Show that your code works"
   ]
  },
  {
   "cell_type": "code",
   "execution_count": null,
   "id": "61ba7680-781c-4620-90a4-43eeaf2b12d4",
   "metadata": {},
   "outputs": [],
   "source": []
  },
  {
   "cell_type": "markdown",
   "id": "1ced6efb-a01c-4598-b7bf-28a086e8c1c6",
   "metadata": {},
   "source": [
    "Using \"if\", \"elif\", and \"else\", write a statement that prints:\n",
    "\"Inside the If\" - when the boolean expression inside of the if statement is fulfilled; \n",
    "\n",
    "\"Inside the elif\" - when the boolean inside of the elif statement is fulfilled;  and finally\n",
    "\n",
    "\"inside the else\"-  when neither are fulfilled. Show that your code works. "
   ]
  },
  {
   "cell_type": "code",
   "execution_count": null,
   "id": "63d04483-d825-4159-8138-2e024017f644",
   "metadata": {},
   "outputs": [],
   "source": []
  },
  {
   "cell_type": "markdown",
   "id": "608fd88a-3c1d-431e-8988-a99cf037e41d",
   "metadata": {},
   "source": [
    "### Section 2: Loops"
   ]
  },
  {
   "cell_type": "markdown",
   "id": "c611d021-ad72-4a97-b5f6-aa1669731526",
   "metadata": {},
   "source": [
    "Use a for loop to print every value in the my_list variable shown below; \n",
    "\n",
    "Next, append the number 15 to the list and print the entire list as a whole (different from printing the contents individual)."
   ]
  },
  {
   "cell_type": "code",
   "execution_count": 2,
   "id": "5f5c954f-3403-4b2c-b2e8-f0a72290e550",
   "metadata": {},
   "outputs": [],
   "source": [
    "my_list = [1, 2, 3, 4, 5]"
   ]
  },
  {
   "cell_type": "markdown",
   "id": "c5b5a319-551f-42df-a700-2ad2aef1049b",
   "metadata": {},
   "source": [
    "Use a while loop to print only the first three values of \"my_list\" above"
   ]
  },
  {
   "cell_type": "code",
   "execution_count": null,
   "id": "771046d0-90a1-48fb-915d-8ef6d87693dd",
   "metadata": {},
   "outputs": [],
   "source": []
  },
  {
   "cell_type": "markdown",
   "id": "0a4f065f-b094-4b42-bb93-0b64bbec53a4",
   "metadata": {},
   "source": [
    "Using a while loop, write a program to keep asking for a number until you enter a negative number. Once a negative number is entered, print \"the negative number entered is\" negative_number."
   ]
  },
  {
   "cell_type": "code",
   "execution_count": null,
   "id": "9185f5a0-38bc-4f9c-a960-264402a7e0ae",
   "metadata": {},
   "outputs": [],
   "source": []
  },
  {
   "cell_type": "markdown",
   "id": "977050cd-ae5d-4b20-a1ff-bfab31eb1ac9",
   "metadata": {},
   "source": [
    "### Section 3: Functions"
   ]
  },
  {
   "cell_type": "markdown",
   "id": "80cec9ba-164c-4604-84d2-ad4d4286e798",
   "metadata": {},
   "source": [
    "Write a function that takes in a string of DNA sequence, checks to make sure there are only A, C, T, and G in the string. Next, calculate the GC content for the DNA sequence"
   ]
  },
  {
   "cell_type": "code",
   "execution_count": null,
   "id": "2dfdbb8c-1c53-4a99-a225-f33bf991d989",
   "metadata": {},
   "outputs": [],
   "source": []
  },
  {
   "cell_type": "markdown",
   "id": "31c43b3a-67d8-4006-b3d2-fa96a6aa311c",
   "metadata": {},
   "source": [
    "Write a similar function that outputs the 5' -3'  reverse complement of a given DNA sequence. Make sure that the function asks for an input DNA sequence"
   ]
  },
  {
   "cell_type": "code",
   "execution_count": null,
   "id": "550e5eeb-4fbc-4a53-b177-10b83d4338b6",
   "metadata": {},
   "outputs": [],
   "source": []
  },
  {
   "cell_type": "markdown",
   "id": "d6c55c56-4c12-4f54-86b6-191a2cdf9990",
   "metadata": {},
   "source": [
    "### Section 4: Dataframe Manipulation"
   ]
  },
  {
   "cell_type": "markdown",
   "id": "c90001d0-fabc-49dd-bd1c-6ecd7cf5ef18",
   "metadata": {},
   "source": [
    "Import the \"country_vaccinations.csv\" file as a pandas dataframe. How many rows and columns are in this dataframe? Use df.info() to display information on all columns of the data. "
   ]
  },
  {
   "cell_type": "code",
   "execution_count": null,
   "id": "93149711-c4d0-4629-9baa-158eb3bbfe60",
   "metadata": {},
   "outputs": [],
   "source": []
  },
  {
   "cell_type": "markdown",
   "id": "0524fbd8-9073-46ed-a4b3-5cf7173bbf4e",
   "metadata": {},
   "source": [
    "Using a for loop, Calculate and print the sum, mean and standard deviation for every float column in this dataframe"
   ]
  },
  {
   "cell_type": "code",
   "execution_count": null,
   "id": "5595cfad-9b76-4140-b7f6-c4149bf39349",
   "metadata": {},
   "outputs": [],
   "source": []
  },
  {
   "cell_type": "markdown",
   "id": "2a680e07-3440-46f5-b246-ebc84f3bdb4a",
   "metadata": {},
   "source": [
    "### Section 5: Plotting"
   ]
  },
  {
   "cell_type": "markdown",
   "id": "fa2f8600-5320-42b2-a410-67fd9c8acb65",
   "metadata": {},
   "source": [
    "Make a plot showing the total vaccinations per hundred for the United States, Canada, Mexico, Cuba, Jamaica, Dominican Rebublic and Haiti. "
   ]
  },
  {
   "cell_type": "code",
   "execution_count": null,
   "id": "c94385c4-af2f-4a2b-8b41-0eaf1d101b17",
   "metadata": {},
   "outputs": [],
   "source": []
  },
  {
   "cell_type": "markdown",
   "id": "fa60be52-bec7-4b17-a021-6754717bd7da",
   "metadata": {},
   "source": [
    "Bonus: Make any additional plots that supplement your understanding of the dataset. What interpretations can you make from your plot?"
   ]
  },
  {
   "cell_type": "code",
   "execution_count": null,
   "id": "51413e14-fcd7-4f9c-b1f6-6cf553ea4a3d",
   "metadata": {},
   "outputs": [],
   "source": []
  },
  {
   "cell_type": "code",
   "execution_count": null,
   "id": "0f7b6623-c679-4f4a-999c-a1d52067e535",
   "metadata": {},
   "outputs": [],
   "source": []
  }
 ],
 "metadata": {
  "kernelspec": {
   "display_name": "Python 3 (ipykernel)",
   "language": "python",
   "name": "python3"
  },
  "language_info": {
   "codemirror_mode": {
    "name": "ipython",
    "version": 3
   },
   "file_extension": ".py",
   "mimetype": "text/x-python",
   "name": "python",
   "nbconvert_exporter": "python",
   "pygments_lexer": "ipython3",
   "version": "3.12.7"
  },
  "panel-cell-order": [
   "4a2c5144-1f4b-4c06-aa85-48e6aa0f1c46",
   "594c4d31-9656-4212-ac63-4e024dcf92da",
   "e421df12-04e5-4dc9-a7ba-a1b90310e290"
  ]
 },
 "nbformat": 4,
 "nbformat_minor": 5
}
